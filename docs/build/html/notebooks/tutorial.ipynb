{
 "cells": [
  {
   "attachments": {},
   "cell_type": "markdown",
   "id": "58144436",
   "metadata": {},
   "source": [
    "# Ice pick quickstart\n",
    "Ice pick can be used to extend the Snowpark Session to add additional functionality.  "
   ]
  },
  {
   "cell_type": "code",
   "execution_count": 2,
   "id": "85f864b1-b245-4ea3-84bc-34e37d170587",
   "metadata": {
    "tags": []
   },
   "outputs": [],
   "source": [
    "from ice_pick import extend_session\n",
    "from snowflake.snowpark import Session\n",
    "import configparser"
   ]
  },
  {
   "cell_type": "code",
   "execution_count": 3,
   "id": "789ddbdf-8918-42c8-93e5-6a4b029ca8fb",
   "metadata": {
    "tags": []
   },
   "outputs": [],
   "source": [
    "# Create the connection and extend the session with ice_pick\n",
    "\n",
    "# assumes credentials are in \"snowflake_creds.config\"\n",
    "config = configparser.ConfigParser()\n",
    "config.read('snowflake_creds.config')\n",
    "session = extend_session(Session).builder.configs(dict(config['DEFAULT'])).create()  "
   ]
  },
  {
   "cell_type": "code",
   "execution_count": 4,
   "id": "3c9b9779-a55a-4589-b9c9-f34eb002e1d0",
   "metadata": {
    "tags": []
   },
   "outputs": [],
   "source": [
    "# example schema object in a snowflake account:\n",
    "obj = session.create_schema_object('TEST', 'SCHEMA_1', 'CUSTOMER', 'TABLE')"
   ]
  },
  {
   "cell_type": "code",
   "execution_count": 9,
   "id": "003aef28-66ab-4ab2-bf8e-644e3b372e34",
   "metadata": {
    "tags": []
   },
   "outputs": [
    {
     "name": "stdout",
     "output_type": "stream",
     "text": [
      "ddl: \n",
      " create or replace TABLE CUSTOMER (\n",
      "\tC_CUSTKEY NUMBER(38,0),\n",
      "\tC_NAME VARCHAR(25),\n",
      "\tC_ADDRESS VARCHAR(40),\n",
      "\tC_NATIONKEY NUMBER(38,0),\n",
      "\tC_PHONE VARCHAR(15),\n",
      "\tC_ACCTBAL NUMBER(12,2),\n",
      "\tC_MKTSEGMENT VARCHAR(10),\n",
      "\tC_COMMENT VARCHAR(117)\n",
      "); \n",
      "\n",
      "description pandas dataframe: \n",
      "           name          type    kind null? default primary key unique key  \\\n",
      "0    C_CUSTKEY  NUMBER(38,0)  COLUMN     Y    None           N          N   \n",
      "1       C_NAME   VARCHAR(25)  COLUMN     Y    None           N          N   \n",
      "2    C_ADDRESS   VARCHAR(40)  COLUMN     Y    None           N          N   \n",
      "3  C_NATIONKEY  NUMBER(38,0)  COLUMN     Y    None           N          N   \n",
      "4      C_PHONE   VARCHAR(15)  COLUMN     Y    None           N          N   \n",
      "\n",
      "  check expression comment policy name  \n",
      "0  None       None    None        None  \n",
      "1  None       None    None        None  \n",
      "2  None       None    None        None  \n",
      "3  None       None    None        None  \n",
      "4  None       None    None        None   \n",
      "\n",
      "grant on object pandas dataframe: \n",
      "                         created_on  privilege granted_on  \\\n",
      "0 2023-03-26 13:33:32.371000-07:00  OWNERSHIP      TABLE   \n",
      "1 2023-03-26 19:37:22.093000-07:00     SELECT      TABLE   \n",
      "2 2023-04-04 20:19:04.698000-07:00     SELECT      TABLE   \n",
      "\n",
      "                     name granted_to  grantee_name grant_option    granted_by  \n",
      "0  TEST.SCHEMA_1.CUSTOMER       ROLE  ACCOUNTADMIN         true  ACCOUNTADMIN  \n",
      "1  TEST.SCHEMA_1.CUSTOMER       ROLE  ACCOUNTADMIN        false  ACCOUNTADMIN  \n",
      "2  TEST.SCHEMA_1.CUSTOMER       ROLE        PUBLIC        false  ACCOUNTADMIN   \n",
      "\n",
      "grant SELECT to PUBLIC role on object status: \n",
      " Statement executed successfully.\n"
     ]
    }
   ],
   "source": [
    "# Functions on a schema object\n",
    "\n",
    "ddl = obj.get_ddl()\n",
    "print(f\"ddl: \\n {ddl} \\n\")\n",
    "\n",
    "description = obj.get_description()\n",
    "print(f\"description pandas dataframe: \\n {description.head()} \\n\")\n",
    "\n",
    "grants_on = obj.get_grants_on()\n",
    "print(f\"grant on object pandas dataframe: \\n {grants_on.head()} \\n\")\n",
    "\n",
    "grant = obj.grant([\"SELECT\"], \"PUBLIC\")\n",
    "print(f\"grant SELECT to PUBLIC role on object status: \\n {grant}\")"
   ]
  },
  {
   "cell_type": "code",
   "execution_count": 12,
   "id": "cf9e8363-e21f-4765-8f09-c4bd25ce96d4",
   "metadata": {
    "tags": []
   },
   "outputs": [
    {
     "name": "stdout",
     "output_type": "stream",
     "text": [
      "ddl for schema object: \n",
      " create or replace TABLE CUSTOMER (\n",
      "\tC_CUSTKEY NUMBER(38,0),\n",
      "\tC_NAME VARCHAR(25),\n",
      "\tC_ADDRESS VARCHAR(40),\n",
      "\tC_NATIONKEY NUMBER(38,0),\n",
      "\tC_PHONE VARCHAR(15),\n",
      "\tC_ACCTBAL NUMBER(12,2),\n",
      "\tC_MKTSEGMENT VARCHAR(10),\n",
      "\tC_COMMENT VARCHAR(117)\n",
      ");\n",
      "ddl for schema object: \n",
      " create or replace TABLE LINEITEM (\n",
      "\tL_ORDERKEY NUMBER(38,0),\n",
      "\tL_PARTKEY NUMBER(38,0),\n",
      "\tL_SUPPKEY NUMBER(38,0),\n",
      "\tL_LINENUMBER NUMBER(38,0),\n",
      "\tL_QUANTITY NUMBER(12,2),\n",
      "\tL_EXTENDEDPRICE NUMBER(12,2),\n",
      "\tL_DISCOUNT NUMBER(12,2),\n",
      "\tL_TAX NUMBER(12,2),\n",
      "\tL_RETURNFLAG VARCHAR(1),\n",
      "\tL_LINESTATUS VARCHAR(1),\n",
      "\tL_SHIPDATE DATE,\n",
      "\tL_COMMITDATE DATE,\n",
      "\tL_RECEIPTDATE DATE,\n",
      "\tL_SHIPINSTRUCT VARCHAR(25),\n",
      "\tL_SHIPMODE VARCHAR(10),\n",
      "\tL_COMMENT VARCHAR(44)\n",
      ");\n",
      "ddl for schema object: \n",
      " create or replace TABLE CUSTOMER (\n",
      "\tC_CUSTKEY NUMBER(38,0),\n",
      "\tC_NAME VARCHAR(25),\n",
      "\tC_ADDRESS VARCHAR(40),\n",
      "\tC_NATIONKEY NUMBER(38,0),\n",
      "\tC_PHONE VARCHAR(15),\n",
      "\tC_ACCTBAL NUMBER(12,2),\n",
      "\tC_MKTSEGMENT VARCHAR(10),\n",
      "\tC_COMMENT VARCHAR(117)\n",
      ");\n",
      "ddl for schema object: \n",
      " create or replace TABLE LINEITEM (\n",
      "\tL_ORDERKEY NUMBER(38,0),\n",
      "\tL_PARTKEY NUMBER(38,0),\n",
      "\tL_SUPPKEY NUMBER(38,0),\n",
      "\tL_LINENUMBER NUMBER(38,0),\n",
      "\tL_QUANTITY NUMBER(12,2),\n",
      "\tL_EXTENDEDPRICE NUMBER(12,2),\n",
      "\tL_DISCOUNT NUMBER(12,2),\n",
      "\tL_TAX NUMBER(12,2),\n",
      "\tL_RETURNFLAG VARCHAR(1),\n",
      "\tL_LINESTATUS VARCHAR(1),\n",
      "\tL_SHIPDATE DATE,\n",
      "\tL_COMMITDATE DATE,\n",
      "\tL_RECEIPTDATE DATE,\n",
      "\tL_SHIPINSTRUCT VARCHAR(25),\n",
      "\tL_SHIPMODE VARCHAR(10),\n",
      "\tL_COMMENT VARCHAR(44)\n",
      ");\n",
      "ddl for schema object: \n",
      " create or replace TABLE CUSTOMER (\n",
      "\tC_CUSTKEY NUMBER(38,0),\n",
      "\tC_NAME VARCHAR(25),\n",
      "\tC_ADDRESS VARCHAR(40),\n",
      "\tC_NATIONKEY NUMBER(38,0),\n",
      "\tC_PHONE VARCHAR(15),\n",
      "\tC_ACCTBAL NUMBER(12,2),\n",
      "\tC_MKTSEGMENT VARCHAR(10),\n",
      "\tC_COMMENT VARCHAR(117)\n",
      ");\n",
      "ddl for schema object: \n",
      " CREATE OR REPLACE PROCEDURE \"SP_PI\"()\n",
      "RETURNS FLOAT\n",
      "LANGUAGE JAVASCRIPT\n",
      "EXECUTE AS OWNER\n",
      "AS '\n",
      "    return 3.1415926;\n",
      "    ';\n"
     ]
    }
   ],
   "source": [
    "# Using the schema filter to return multiple schema objects\n",
    "\n",
    "sp_filter = session.create_schema_object_filter([\"TEST\", \"TEST_*\"], [\".*\"], [\".*\"], [\"tables\", \"Procedures\"])\n",
    "\n",
    "schema_object_list = sp_filter.return_schema_objects()\n",
    "\n",
    "# get the ddl for all of the returned objects:\n",
    "ddl_list = [schema_obj.get_ddl() for schema_obj in schema_object_list]\n",
    "\n",
    "for ddl in ddl_list:\n",
    "    print(f\"ddl for schema object: \\n {ddl}\")"
   ]
  },
  {
   "cell_type": "code",
   "execution_count": 15,
   "id": "8ce37132-86c8-4607-a565-1e3c560c71b1",
   "metadata": {
    "tags": []
   },
   "outputs": [
    {
     "name": "stdout",
     "output_type": "stream",
     "text": [
      "----------------------------------------\n",
      "|\"A\"   |\"B\"    |\"C\"        |\"D\"        |\n",
      "----------------------------------------\n",
      "|1.0   |snow   |NULL       |NULL       |\n",
      "|3.0   |flake  |NULL       |NULL       |\n",
      "|2.0   |NULL   |ice        |NULL       |\n",
      "|4.0   |NULL   |pick       |NULL       |\n",
      "|6.0   |NULL   |test_1     |NULL       |\n",
      "|7.0   |NULL   |test_2     |NULL       |\n",
      "|NULL  |NULL   |testing_d  |testing_f  |\n",
      "|NULL  |NULL   |testing_g  |testing_h  |\n",
      "----------------------------------------\n",
      "\n"
     ]
    }
   ],
   "source": [
    "# example of extension function: auto_union\n",
    "\n",
    "from snowflake.snowpark.types import IntegerType, StringType, StructField, StructType, FloatType, NullType\n",
    "\n",
    "schema_1 = StructType([StructField(\"a\", IntegerType()), StructField(\"b\", StringType())])\n",
    "schema_2 = StructType([StructField(\"a\", FloatType()), StructField(\"c\", StringType())])\n",
    "schema_3 = StructType([StructField(\"a\", IntegerType()), StructField(\"c\", StringType())])\n",
    "schema_4 = StructType([StructField(\"c\", StringType()), StructField(\"d\", StringType())])\n",
    "\n",
    "df_1 = session.create_dataframe([[1, \"snow\"], [3, \"flake\"]], schema_1)\n",
    "df_2 = session.create_dataframe([[2.0, \"ice\"], [4.0, \"pick\"]], schema_2)\n",
    "df_3 = session.create_dataframe([[6, \"test_1\"], [7, \"test_2\"]], schema_3)\n",
    "df_4 = session.create_dataframe([[\"testing_d\", \"testing_f\"], [\"testing_g\", \"testing_h\"]], schema_4)\n",
    "\n",
    "union_dfs = [df_1, df_2, df_3, df_4]\n",
    "\n",
    "unioned_df = session.auto_union(union_dfs)\n",
    "\n",
    "unioned_df.show()"
   ]
  }
 ],
 "metadata": {
  "kernelspec": {
   "display_name": "ice_pick",
   "language": "python",
   "name": "python3"
  },
  "language_info": {
   "codemirror_mode": {
    "name": "ipython",
    "version": 3
   },
   "file_extension": ".py",
   "mimetype": "text/x-python",
   "name": "python",
   "nbconvert_exporter": "python",
   "pygments_lexer": "ipython3",
   "version": "3.8.16"
  },
  "vscode": {
   "interpreter": {
    "hash": "f535c9aa58ad35c15fef6559dd918d08f2252f7c0d6c5aa77ab7d21ef8086ee0"
   }
  }
 },
 "nbformat": 4,
 "nbformat_minor": 5
}
